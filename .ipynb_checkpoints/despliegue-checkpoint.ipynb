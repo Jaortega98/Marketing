{
 "cells": [
  {
   "cell_type": "code",
   "execution_count": 1,
   "id": "2f481a16-c2b9-4f32-8f16-da3e5ec18cb3",
   "metadata": {},
   "outputs": [],
   "source": [
    "from source import SystemRecomendation \n",
    "import warnings\n",
    "\n",
    "sr = SystemRecomendation()\n",
    "\n",
    "warnings.simplefilter(\"ignore\")"
   ]
  },
  {
   "cell_type": "code",
   "execution_count": 2,
   "id": "a943dbab-1c80-4dbf-b4c9-60125a6eac2e",
   "metadata": {},
   "outputs": [
    {
     "data": {
      "application/vnd.jupyter.widget-view+json": {
       "model_id": "8b24fa5d05af40b6b8b03ec9bd04e417",
       "version_major": 2,
       "version_minor": 0
      },
      "text/plain": [
       "HBox(children=(VBox(children=(HTML(value='<h2>Sistema de recomendacion</h2><br>'), Dropdown(options=('Basado e…"
      ]
     },
     "metadata": {},
     "output_type": "display_data"
    },
    {
     "data": {
      "application/vnd.jupyter.widget-view+json": {
       "model_id": "de225181b35e48f493e2566dda6c42fd",
       "version_major": 2,
       "version_minor": 0
      },
      "text/plain": [
       "Output()"
      ]
     },
     "metadata": {},
     "output_type": "display_data"
    }
   ],
   "source": [
    "sr.display_system()"
   ]
  }
 ],
 "metadata": {
  "kernelspec": {
   "display_name": "Python 3 (ipykernel)",
   "language": "python",
   "name": "python3"
  },
  "language_info": {
   "codemirror_mode": {
    "name": "ipython",
    "version": 3
   },
   "file_extension": ".py",
   "mimetype": "text/x-python",
   "name": "python",
   "nbconvert_exporter": "python",
   "pygments_lexer": "ipython3",
   "version": "3.11.7"
  },
  "widgets": {
   "application/vnd.jupyter.widget-state+json": {
    "state": {
     "05398c93dae646439bd4daaad58acf75": {
      "model_module": "@jupyter-widgets/controls",
      "model_module_version": "2.0.0",
      "model_name": "ButtonStyleModel",
      "state": {
       "button_color": "lightblue",
       "font_family": null,
       "font_size": null,
       "font_style": null,
       "font_variant": null,
       "font_weight": null,
       "text_color": null,
       "text_decoration": null
      }
     },
     "10fa5f02d57f4a5fbcc73a8b5136c6e1": {
      "model_module": "@jupyter-widgets/base",
      "model_module_version": "2.0.0",
      "model_name": "LayoutModel",
      "state": {}
     },
     "116daaa321234cf0a602a5676a30ae8e": {
      "model_module": "@jupyter-widgets/controls",
      "model_module_version": "2.0.0",
      "model_name": "ButtonStyleModel",
      "state": {
       "button_color": "DarkGray",
       "font_family": null,
       "font_size": null,
       "font_style": null,
       "font_variant": null,
       "font_weight": null,
       "text_color": null,
       "text_decoration": null
      }
     },
     "18742f8d95ea4c9680fb436d206ca1cd": {
      "model_module": "@jupyter-widgets/controls",
      "model_module_version": "2.0.0",
      "model_name": "HTMLModel",
      "state": {
       "layout": "IPY_MODEL_54ff93d71ca34abcb5d0e2bfdcc864fa",
       "style": "IPY_MODEL_a4216448e8c144c8a01bf14c4bb57284",
       "value": "<h2>Sistema de recomendacion</h2><br>"
      }
     },
     "1a437193e3bb40eda9847f3f7befccde": {
      "model_module": "@jupyter-widgets/base",
      "model_module_version": "2.0.0",
      "model_name": "LayoutModel",
      "state": {}
     },
     "22a100b4cc034a5a96a33d17938a0497": {
      "model_module": "@jupyter-widgets/base",
      "model_module_version": "2.0.0",
      "model_name": "LayoutModel",
      "state": {}
     },
     "310410815a07471880fc102c724343d3": {
      "model_module": "@jupyter-widgets/controls",
      "model_module_version": "2.0.0",
      "model_name": "VBoxModel",
      "state": {
       "children": [
        "IPY_MODEL_18742f8d95ea4c9680fb436d206ca1cd",
        "IPY_MODEL_3d115a3e916a46a9b65a83b6d0a81914"
       ],
       "layout": "IPY_MODEL_ca34e0e850e74716b523d7faf07ff713"
      }
     },
     "37618a6cba9d441a92e26b7f1d15ccc2": {
      "model_module": "@jupyter-widgets/base",
      "model_module_version": "2.0.0",
      "model_name": "LayoutModel",
      "state": {
       "align_items": "center",
       "display": "flex",
       "margin": "5px 5px 5px 5px"
      }
     },
     "3d115a3e916a46a9b65a83b6d0a81914": {
      "model_module": "@jupyter-widgets/controls",
      "model_module_version": "2.0.0",
      "model_name": "DropdownModel",
      "state": {
       "_options_labels": [
        "Basado en Popularidad",
        "Basado en Contenido",
        "Basado en Contenido (KNN)",
        "Basado en Contenido visto por usuario",
        "Filtros Colaborativos"
       ],
       "index": null,
       "layout": "IPY_MODEL_22a100b4cc034a5a96a33d17938a0497",
       "style": "IPY_MODEL_d9f779b6001241f59d85cc70b97005e0"
      }
     },
     "4a820132bdc24e5794b4e27874aed70c": {
      "model_module": "@jupyter-widgets/controls",
      "model_module_version": "2.0.0",
      "model_name": "HTMLStyleModel",
      "state": {
       "description_width": "",
       "font_size": null,
       "text_color": null
      }
     },
     "54ff93d71ca34abcb5d0e2bfdcc864fa": {
      "model_module": "@jupyter-widgets/base",
      "model_module_version": "2.0.0",
      "model_name": "LayoutModel",
      "state": {}
     },
     "677793b24a004fa99d5925c4f362e831": {
      "model_module": "@jupyter-widgets/controls",
      "model_module_version": "2.0.0",
      "model_name": "ButtonModel",
      "state": {
       "description": "Click me!",
       "layout": "IPY_MODEL_e9611af0869545e8aba7202537f51c2d",
       "style": "IPY_MODEL_05398c93dae646439bd4daaad58acf75",
       "tooltip": null
      }
     },
     "87df0d1d0e284fb6ae54b4c87c85674b": {
      "model_module": "@jupyter-widgets/base",
      "model_module_version": "2.0.0",
      "model_name": "LayoutModel",
      "state": {}
     },
     "8b24fa5d05af40b6b8b03ec9bd04e417": {
      "model_module": "@jupyter-widgets/controls",
      "model_module_version": "2.0.0",
      "model_name": "HBoxModel",
      "state": {
       "children": [
        "IPY_MODEL_310410815a07471880fc102c724343d3",
        "IPY_MODEL_ec3b271a7da7418faa8f41088362d067"
       ],
       "layout": "IPY_MODEL_1a437193e3bb40eda9847f3f7befccde"
      }
     },
     "96a0a0d36bf341bca26678667581d3e0": {
      "model_module": "@jupyter-widgets/controls",
      "model_module_version": "2.0.0",
      "model_name": "HTMLModel",
      "state": {
       "layout": "IPY_MODEL_87df0d1d0e284fb6ae54b4c87c85674b",
       "style": "IPY_MODEL_4a820132bdc24e5794b4e27874aed70c",
       "value": "<h2>Para Filtros Colaborativos</h2><br>"
      }
     },
     "a4216448e8c144c8a01bf14c4bb57284": {
      "model_module": "@jupyter-widgets/controls",
      "model_module_version": "2.0.0",
      "model_name": "HTMLStyleModel",
      "state": {
       "description_width": "",
       "font_size": null,
       "text_color": null
      }
     },
     "aa752c0a92ff479396f592c78ca40bd8": {
      "model_module": "@jupyter-widgets/controls",
      "model_module_version": "2.0.0",
      "model_name": "ButtonModel",
      "state": {
       "description": "Click me!<style>.widget-label { font-weight: bold; }</style>",
       "layout": "IPY_MODEL_37618a6cba9d441a92e26b7f1d15ccc2",
       "style": "IPY_MODEL_ac9e236b96e04833b84cc3954ed6d0ef",
       "tooltip": null
      }
     },
     "ac9e236b96e04833b84cc3954ed6d0ef": {
      "model_module": "@jupyter-widgets/controls",
      "model_module_version": "2.0.0",
      "model_name": "ButtonStyleModel",
      "state": {
       "button_color": "lightblue",
       "font_family": null,
       "font_size": null,
       "font_style": null,
       "font_variant": null,
       "font_weight": null,
       "text_color": null,
       "text_decoration": null
      }
     },
     "ca34e0e850e74716b523d7faf07ff713": {
      "model_module": "@jupyter-widgets/base",
      "model_module_version": "2.0.0",
      "model_name": "LayoutModel",
      "state": {
       "margin": "0px 80px 0px 200px"
      }
     },
     "d9f779b6001241f59d85cc70b97005e0": {
      "model_module": "@jupyter-widgets/controls",
      "model_module_version": "2.0.0",
      "model_name": "DescriptionStyleModel",
      "state": {
       "description_width": ""
      }
     },
     "de225181b35e48f493e2566dda6c42fd": {
      "model_module": "@jupyter-widgets/output",
      "model_module_version": "1.0.0",
      "model_name": "OutputModel",
      "state": {
       "layout": "IPY_MODEL_df3c95c363324ca3b933f5a4d1bd12ea"
      }
     },
     "df3c95c363324ca3b933f5a4d1bd12ea": {
      "model_module": "@jupyter-widgets/base",
      "model_module_version": "2.0.0",
      "model_name": "LayoutModel",
      "state": {}
     },
     "e9611af0869545e8aba7202537f51c2d": {
      "model_module": "@jupyter-widgets/base",
      "model_module_version": "2.0.0",
      "model_name": "LayoutModel",
      "state": {
       "align_items": "center",
       "display": "flex",
       "margin": "5px 5px 5px 5px"
      }
     },
     "ec3b271a7da7418faa8f41088362d067": {
      "model_module": "@jupyter-widgets/controls",
      "model_module_version": "2.0.0",
      "model_name": "VBoxModel",
      "state": {
       "children": [
        "IPY_MODEL_96a0a0d36bf341bca26678667581d3e0",
        "IPY_MODEL_f46feb50805b4d109b157ca9bcf9e233"
       ],
       "layout": "IPY_MODEL_f5f9c860f7c648f1826d8862a9c1190a"
      }
     },
     "f46feb50805b4d109b157ca9bcf9e233": {
      "model_module": "@jupyter-widgets/controls",
      "model_module_version": "2.0.0",
      "model_name": "ButtonModel",
      "state": {
       "description": "Realizar Predicciones",
       "layout": "IPY_MODEL_10fa5f02d57f4a5fbcc73a8b5136c6e1",
       "style": "IPY_MODEL_116daaa321234cf0a602a5676a30ae8e",
       "tooltip": null
      }
     },
     "f5f9c860f7c648f1826d8862a9c1190a": {
      "model_module": "@jupyter-widgets/base",
      "model_module_version": "2.0.0",
      "model_name": "LayoutModel",
      "state": {
       "margin": "0px 0px 0px 0px"
      }
     }
    },
    "version_major": 2,
    "version_minor": 0
   }
  }
 },
 "nbformat": 4,
 "nbformat_minor": 5
}
