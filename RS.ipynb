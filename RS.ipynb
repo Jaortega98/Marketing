{
 "cells": [
  {
   "cell_type": "code",
   "execution_count": 2,
   "id": "e554e171-b286-4584-bd65-1439963bac92",
   "metadata": {},
   "outputs": [],
   "source": [
    "from source import create_df, preprocess, distributions, popularity_recommendations\n",
    "import pandas as pd\n",
    "import sqlite3\n",
    "import plotly.express as px\n",
    "from plotly.subplots import make_subplots\n",
    "import plotly.graph_objects as go\n",
    "\n",
    "import ipywidgets as ipyw               \n",
    "from ipywidgets import widgets, interactive_output, interact, interactive, fixed, widget\n",
    "from IPython.display import display\n",
    "\n",
    "from sklearn.preprocessing import MinMaxScaler"
   ]
  },
  {
   "cell_type": "markdown",
   "id": "11414d02-9d78-4605-95bb-5ccd2d7b2a88",
   "metadata": {},
   "source": [
    "# **EDA**"
   ]
  },
  {
   "cell_type": "code",
   "execution_count": null,
   "id": "9d821c90-dc63-416d-973a-dbf609d9754e",
   "metadata": {},
   "outputs": [],
   "source": [
    "%reload_ext sql\n",
    "%sql sqlite:///db_movies"
   ]
  },
  {
   "cell_type": "code",
   "execution_count": null,
   "id": "06b32889-b6ab-4cc3-b16d-4ed348a54e12",
   "metadata": {
    "scrolled": true
   },
   "outputs": [],
   "source": [
    "%%sql\n",
    "\n",
    "SELECT movieId, COUNT(*) AS total_ratings FROM ratings\n",
    "GROUP BY movieId\n",
    "HAVING total_ratings <= 1;\n",
    "\n",
    "\n",
    "SELECT userId, COUNT(*) AS watched_movies FROM ratings\n",
    "GROUP BY userId\n",
    "ORDER BY watched_movies DESC;\n",
    "\n",
    "SELECT title, movies.movieId FROM movies\n",
    "INNER JOIN (SELECT movieId, COUNT(*) AS total_ratings FROM ratings\n",
    "GROUP BY movieId\n",
    "HAVING total_ratings <= 1) t1\n",
    "ON movies.movieId = t1.movieId\n",
    "ORDER BY title;\n",
    "\n",
    "\n",
    "SELECT * FROM movies\n",
    "WHERE genres = \"(no genres listed)\";\n",
    "\n",
    "SELECT * FROM (SELECT movieId, COUNT(*) AS total_ratings FROM ratings\n",
    "GROUP BY movieId\n",
    "ORDER BY total_ratings) t1\n",
    "INNER JOIN (SELECT * FROM movies\n",
    "WHERE genres = \"(no genres listed)\") t2\n",
    "ON t1.movieId = t2.movieId;\n",
    "\n",
    "SELECT movieId, COUNT(*) AS total_ratings FROM ratings\n",
    "GROUP BY movieId\n",
    "ORDER BY total_ratings;\n",
    "\n",
    "\n",
    "SELECT userId, COUNT(*) AS watched_movies FROM ratings\n",
    "GROUP BY userId\n",
    "ORDER BY watched_movies DESC;\n",
    "\n",
    "\n",
    "SELECT userId FROM (SELECT userId, COUNT(*) AS watched_movies FROM ratings\n",
    "GROUP BY userId\n",
    "HAVING watched_movies > 1000);\n",
    "\n",
    "\n",
    "SELECT rel_yr, title, ROUND(AVG(rating), 3) AS avg_ratings, COUNT(*) total_ratings FROM full_info\n",
    "GROUP BY rel_yr, title\n",
    "HAVING rel_yr = 2018\n",
    "ORDER BY rel_yr DESC, avg_ratings DESC;\n",
    "\n",
    "\n"
   ]
  },
  {
   "cell_type": "code",
   "execution_count": null,
   "id": "0358dde4-6d9b-4214-99a1-5a29e52fa573",
   "metadata": {},
   "outputs": [],
   "source": [
    "distributions()"
   ]
  },
  {
   "cell_type": "code",
   "execution_count": null,
   "id": "2b80bd4e-42a2-45cb-84aa-1eb1fc96272e",
   "metadata": {},
   "outputs": [],
   "source": [
    "preprocess()"
   ]
  },
  {
   "cell_type": "code",
   "execution_count": null,
   "id": "9d1d356e-65e7-4733-84de-2088aa139ce5",
   "metadata": {},
   "outputs": [],
   "source": [
    "distributions()"
   ]
  },
  {
   "cell_type": "code",
   "execution_count": null,
   "id": "ccfda475-a6fc-439d-a80e-7ecec766a95d",
   "metadata": {},
   "outputs": [],
   "source": [
    "query = \"SELECT userId, COUNT(*) AS watched_movies FROM ratings GROUP BY userId ORDER BY watched_movies DESC\"\n",
    "df = create_df(query)\n",
    "\n",
    "fig = px.histogram(df, x=\"watched_movies\", nbins=60, template=\"plotly_white\", labels={\"watched_movies\":\"<b>Peliculas vistas</b>\"},\n",
    "                  title=\"<b>Distribucion Cantidad de peliculas vistas<br>por usuario</b>\", color_discrete_sequence=[\"rgba(109, 176, 223, 0.8)\"])\n",
    "\n",
    "fig.update_layout(title={\"x\":0.5})\n",
    "\n",
    "fig.update_traces(hovertemplate=\"<b>Peliculas vistas</b>=%{x}<br><b>Usuarios</b>=%{y}<extra></extra>\")\n",
    "\n",
    "fig.update_yaxes(title=\"<b>Usuarios</b>\")\n",
    "\n",
    "fig.show()"
   ]
  },
  {
   "cell_type": "code",
   "execution_count": null,
   "id": "1f860a55-dc51-423a-acec-fd1c06077233",
   "metadata": {},
   "outputs": [],
   "source": [
    "query = \"SELECT movieId, COUNT(*) AS total_ratings FROM ratings GROUP BY movieId ORDER BY total_ratings\"\n",
    "df = create_df(query)\n",
    "# df[\"conteo\"] = df[\"conteo\"]/df[\"conteo\"].sum() \n",
    "\n",
    "fig = px.histogram(df, x=\"total_ratings\", nbins=50, template=\"plotly_white\", labels={\"total_ratings\":\"<b>Veces Calificada</b>\"},\n",
    "                  title=\"<b>Distribucion Cantidad de calificaciones por pelicula</b>\", color_discrete_sequence=[\"rgba(105, 153, 66, 0.8)\"])\n",
    "\n",
    "fig.update_layout(title={\"x\":0.5})\n",
    "\n",
    "fig.update_traces(textposition=\"outside\", hovertemplate=\"<b>Veces Calificada</b>=%{x}<br><b>Peliculas</b>=%{y}<extra></extra>\")\n",
    "\n",
    "fig.update_yaxes(title=\"<b>Peliculas</b>\", )\n",
    "\n",
    "fig.show()"
   ]
  },
  {
   "cell_type": "code",
   "execution_count": 2,
   "id": "474ad352-2cc7-4ca6-9a50-f8eea416dddd",
   "metadata": {},
   "outputs": [
    {
     "data": {
      "application/vnd.jupyter.widget-view+json": {
       "model_id": "aec2b01623b54ac0bccf34cea7d73ed1",
       "version_major": 2,
       "version_minor": 0
      },
      "text/plain": [
       "VBox(children=(Dropdown(description='Tipo de Filtrado', options=('Mejor Calificada', 'Mas Vista', 'Mejor Calif…"
      ]
     },
     "metadata": {},
     "output_type": "display_data"
    },
    {
     "data": {
      "application/vnd.jupyter.widget-view+json": {
       "model_id": "e249df8f876643b1ad0f056e00e677b6",
       "version_major": 2,
       "version_minor": 0
      },
      "text/plain": [
       "Output()"
      ]
     },
     "metadata": {},
     "output_type": "display_data"
    }
   ],
   "source": [
    " popularity_recommendations()"
   ]
  },
  {
   "cell_type": "code",
   "execution_count": 3,
   "id": "845770e8",
   "metadata": {
    "scrolled": false
   },
   "outputs": [
    {
     "data": {
      "text/html": [
       "<div>\n",
       "<style scoped>\n",
       "    .dataframe tbody tr th:only-of-type {\n",
       "        vertical-align: middle;\n",
       "    }\n",
       "\n",
       "    .dataframe tbody tr th {\n",
       "        vertical-align: top;\n",
       "    }\n",
       "\n",
       "    .dataframe thead th {\n",
       "        text-align: right;\n",
       "    }\n",
       "</style>\n",
       "<table border=\"1\" class=\"dataframe\">\n",
       "  <thead>\n",
       "    <tr style=\"text-align: right;\">\n",
       "      <th></th>\n",
       "      <th>title</th>\n",
       "      <th>genres</th>\n",
       "      <th>release_yr</th>\n",
       "      <th>similitud</th>\n",
       "    </tr>\n",
       "    <tr>\n",
       "      <th>movieId</th>\n",
       "      <th></th>\n",
       "      <th></th>\n",
       "      <th></th>\n",
       "      <th></th>\n",
       "    </tr>\n",
       "  </thead>\n",
       "  <tbody>\n",
       "    <tr>\n",
       "      <th>117867</th>\n",
       "      <td>'71 (2014)</td>\n",
       "      <td>Action|Drama|Thriller|War</td>\n",
       "      <td>2014</td>\n",
       "      <td>1.000000</td>\n",
       "    </tr>\n",
       "    <tr>\n",
       "      <th>107069</th>\n",
       "      <td>Lone Survivor (2013)</td>\n",
       "      <td>Action|Drama|Thriller|War</td>\n",
       "      <td>2013</td>\n",
       "      <td>0.999992</td>\n",
       "    </tr>\n",
       "    <tr>\n",
       "      <th>174055</th>\n",
       "      <td>Dunkirk (2017)</td>\n",
       "      <td>Action|Drama|Thriller|War</td>\n",
       "      <td>2017</td>\n",
       "      <td>0.999929</td>\n",
       "    </tr>\n",
       "    <tr>\n",
       "      <th>74795</th>\n",
       "      <td>Green Zone (2010)</td>\n",
       "      <td>Action|Drama|Thriller|War</td>\n",
       "      <td>2010</td>\n",
       "      <td>0.999870</td>\n",
       "    </tr>\n",
       "    <tr>\n",
       "      <th>57528</th>\n",
       "      <td>Rambo (Rambo 4) (2008)</td>\n",
       "      <td>Action|Drama|Thriller|War</td>\n",
       "      <td>2008</td>\n",
       "      <td>0.999706</td>\n",
       "    </tr>\n",
       "    <tr>\n",
       "      <th>69481</th>\n",
       "      <td>Hurt Locker, The (2008)</td>\n",
       "      <td>Action|Drama|Thriller|War</td>\n",
       "      <td>2008</td>\n",
       "      <td>0.999706</td>\n",
       "    </tr>\n",
       "    <tr>\n",
       "      <th>27704</th>\n",
       "      <td>Battle Royale 2: Requiem (Batoru rowaiaru II: ...</td>\n",
       "      <td>Action|Drama|Thriller|War</td>\n",
       "      <td>2003</td>\n",
       "      <td>0.998995</td>\n",
       "    </tr>\n",
       "    <tr>\n",
       "      <th>46855</th>\n",
       "      <td>Army of Shadows (L'armée des ombres) (1969)</td>\n",
       "      <td>Action|Drama|Thriller|War</td>\n",
       "      <td>1969</td>\n",
       "      <td>0.981537</td>\n",
       "    </tr>\n",
       "    <tr>\n",
       "      <th>7766</th>\n",
       "      <td>Throne of Blood (Kumonosu jô) (1957)</td>\n",
       "      <td>Action|Drama|Thriller|War</td>\n",
       "      <td>1957</td>\n",
       "      <td>0.969613</td>\n",
       "    </tr>\n",
       "    <tr>\n",
       "      <th>36529</th>\n",
       "      <td>Lord of War (2005)</td>\n",
       "      <td>Action|Crime|Drama|Thriller|War</td>\n",
       "      <td>2005</td>\n",
       "      <td>0.878733</td>\n",
       "    </tr>\n",
       "    <tr>\n",
       "      <th>116797</th>\n",
       "      <td>The Imitation Game (2014)</td>\n",
       "      <td>Drama|Thriller|War</td>\n",
       "      <td>2014</td>\n",
       "      <td>0.865772</td>\n",
       "    </tr>\n",
       "  </tbody>\n",
       "</table>\n",
       "</div>"
      ],
      "text/plain": [
       "                                                     title  \\\n",
       "movieId                                                      \n",
       "117867                                          '71 (2014)   \n",
       "107069                                Lone Survivor (2013)   \n",
       "174055                                      Dunkirk (2017)   \n",
       "74795                                    Green Zone (2010)   \n",
       "57528                               Rambo (Rambo 4) (2008)   \n",
       "69481                              Hurt Locker, The (2008)   \n",
       "27704    Battle Royale 2: Requiem (Batoru rowaiaru II: ...   \n",
       "46855          Army of Shadows (L'armée des ombres) (1969)   \n",
       "7766                  Throne of Blood (Kumonosu jô) (1957)   \n",
       "36529                                   Lord of War (2005)   \n",
       "116797                           The Imitation Game (2014)   \n",
       "\n",
       "                                  genres release_yr  similitud  \n",
       "movieId                                                         \n",
       "117867         Action|Drama|Thriller|War       2014   1.000000  \n",
       "107069         Action|Drama|Thriller|War       2013   0.999992  \n",
       "174055         Action|Drama|Thriller|War       2017   0.999929  \n",
       "74795          Action|Drama|Thriller|War       2010   0.999870  \n",
       "57528          Action|Drama|Thriller|War       2008   0.999706  \n",
       "69481          Action|Drama|Thriller|War       2008   0.999706  \n",
       "27704          Action|Drama|Thriller|War       2003   0.998995  \n",
       "46855          Action|Drama|Thriller|War       1969   0.981537  \n",
       "7766           Action|Drama|Thriller|War       1957   0.969613  \n",
       "36529    Action|Crime|Drama|Thriller|War       2005   0.878733  \n",
       "116797                Drama|Thriller|War       2014   0.865772  "
      ]
     },
     "metadata": {},
     "output_type": "display_data"
    }
   ],
   "source": [
    "title = \"'71 (2014)\"\n",
    "n = 11\n",
    "\n",
    "query = \"SELECT * FROM movies;\"\n",
    "\n",
    "movies = create_df(query).set_index(\"movieId\")\n",
    "\n",
    "movies[\"release_yr\"] = movies[\"title\"].str.extract(\"\\((\\d{4})\\)\")\n",
    "\n",
    "escaler = MinMaxScaler()\n",
    "\n",
    "index = movies[movies[\"title\"] ==  title].index.values.tolist()[0]\n",
    "\n",
    "to_corr = pd.concat([movies[\"release_yr\"], movies['genres'].str.get_dummies()], axis=1)\n",
    "\n",
    "to_corr = pd.DataFrame(escaler.fit_transform(to_corr), columns=to_corr.columns, index=to_corr.index)\n",
    "\n",
    "\n",
    "movies[\"similitud\"] = to_corr.corrwith(to_corr.loc[index], axis=1)\n",
    "\n",
    "\n",
    "display(movies.sort_values(by=\"similitud\", ascending=False).iloc[:n,:4])"
   ]
  },
  {
   "cell_type": "code",
   "execution_count": 5,
   "id": "6e63c848",
   "metadata": {},
   "outputs": [],
   "source": [
    "def filter_content(title, n):\n",
    "    \n",
    "    query = \"SELECT * FROM movies;\"\n",
    "\n",
    "    movies = create_df(query).set_index(\"movieId\")\n",
    "\n",
    "    movies[\"release_yr\"] = movies[\"title\"].str.extract(\"\\((\\d{4})\\)\")\n",
    "\n",
    "    escaler = MinMaxScaler()\n",
    "\n",
    "    index = movies[movies[\"title\"] ==  title].index.values.tolist()[0]\n",
    "\n",
    "    to_corr = pd.concat([movies[\"release_yr\"], movies['genres'].str.get_dummies()], axis=1)\n",
    "\n",
    "    to_corr = pd.DataFrame(escaler.fit_transform(to_corr), columns=to_corr.columns, index=to_corr.index)\n",
    "\n",
    "\n",
    "    movies[\"similitud\"] = to_corr.corrwith(to_corr.loc[index], axis=1)\n",
    "\n",
    "\n",
    "    display(movies.sort_values(by=\"similitud\", ascending=False).iloc[:n,:4])"
   ]
  },
  {
   "cell_type": "code",
   "execution_count": 8,
   "id": "2c71aad5",
   "metadata": {},
   "outputs": [],
   "source": [
    "def content_recommendations():\n",
    "    wid_1 = widgets.Dropdown(options=create_df(\"SELECT DISTINCT title FROM movies ORDER BY title\").values.flatten().tolist(),\n",
    "                         description=\"Titulo\")\n",
    "    wid_2 = widgets.BoundedIntText(value=10, min=10, max=60,\n",
    "                                description=\"Recomendaciones\")\n",
    "\n",
    "\n",
    "    ui_1 = widgets.VBox([wid_1, wid_2])\n",
    "\n",
    "    output = interactive_output(filter_content, {\"title\":wid_1, \"n\":wid_2})\n",
    "\n",
    "    display(ui_1, output)"
   ]
  },
  {
   "cell_type": "code",
   "execution_count": 9,
   "id": "cf6bea68",
   "metadata": {},
   "outputs": [
    {
     "data": {
      "application/vnd.jupyter.widget-view+json": {
       "model_id": "d275a2baa63142e19615c53d22245fdc",
       "version_major": 2,
       "version_minor": 0
      },
      "text/plain": [
       "VBox(children=(Dropdown(description='Titulo', options=(\"'71 (2014)\", \"'Hellboy': The Seeds of Creation (2004)\"…"
      ]
     },
     "metadata": {},
     "output_type": "display_data"
    },
    {
     "data": {
      "application/vnd.jupyter.widget-view+json": {
       "model_id": "9c6257d06d4e40928dedbbf7d13d0947",
       "version_major": 2,
       "version_minor": 0
      },
      "text/plain": [
       "Output()"
      ]
     },
     "metadata": {},
     "output_type": "display_data"
    }
   ],
   "source": [
    "content_recommendations()"
   ]
  },
  {
   "cell_type": "code",
   "execution_count": null,
   "id": "c5277e3c",
   "metadata": {},
   "outputs": [],
   "source": []
  }
 ],
 "metadata": {
  "kernelspec": {
   "display_name": "Python 3 (ipykernel)",
   "language": "python",
   "name": "python3"
  },
  "language_info": {
   "codemirror_mode": {
    "name": "ipython",
    "version": 3
   },
   "file_extension": ".py",
   "mimetype": "text/x-python",
   "name": "python",
   "nbconvert_exporter": "python",
   "pygments_lexer": "ipython3",
   "version": "3.11.5"
  },
  "widgets": {
   "application/vnd.jupyter.widget-state+json": {
    "state": {
     "336273805c2844faa2a18df20bd9d7d9": {
      "model_module": "@jupyter-widgets/base",
      "model_module_version": "2.0.0",
      "model_name": "LayoutModel",
      "state": {}
     },
     "35ca7ff2d9af44e2a9670ffaab397e4c": {
      "model_module": "@jupyter-widgets/controls",
      "model_module_version": "2.0.0",
      "model_name": "DescriptionStyleModel",
      "state": {
       "description_width": ""
      }
     },
     "540a0678a06341719ef5f2759075163f": {
      "model_module": "@jupyter-widgets/controls",
      "model_module_version": "2.0.0",
      "model_name": "DescriptionStyleModel",
      "state": {
       "description_width": ""
      }
     },
     "6dcc6d0febe442c19eaaa3672fdc51c0": {
      "model_module": "@jupyter-widgets/base",
      "model_module_version": "2.0.0",
      "model_name": "LayoutModel",
      "state": {}
     },
     "7b1b9f75908f42f2b9ec77148fa83c05": {
      "model_module": "@jupyter-widgets/base",
      "model_module_version": "2.0.0",
      "model_name": "LayoutModel",
      "state": {}
     },
     "8a4f2e44ed5448d1bdb963909305f19b": {
      "model_module": "@jupyter-widgets/controls",
      "model_module_version": "2.0.0",
      "model_name": "DescriptionStyleModel",
      "state": {
       "description_width": ""
      }
     },
     "8fcc4dd44a834141a781e04345d2f704": {
      "model_module": "@jupyter-widgets/base",
      "model_module_version": "2.0.0",
      "model_name": "LayoutModel",
      "state": {}
     },
     "94367eabb2aa491e8333976cb460498a": {
      "model_module": "@jupyter-widgets/controls",
      "model_module_version": "2.0.0",
      "model_name": "DropdownModel",
      "state": {
       "_options_labels": [
        "Mejor Calificada",
        "Mas Vista",
        "Mejor Calificada x Año de lanzamiento"
       ],
       "description": "Tipo de Filtrado",
       "index": 1,
       "layout": "IPY_MODEL_f9cc0993705149ff89f8b61ac533ff0e",
       "style": "IPY_MODEL_8a4f2e44ed5448d1bdb963909305f19b"
      }
     },
     "aec2b01623b54ac0bccf34cea7d73ed1": {
      "model_module": "@jupyter-widgets/controls",
      "model_module_version": "2.0.0",
      "model_name": "VBoxModel",
      "state": {
       "children": [
        "IPY_MODEL_94367eabb2aa491e8333976cb460498a",
        "IPY_MODEL_bac45817aaee46f5b53b55840f2d58fb",
        "IPY_MODEL_b31d7486f49a43d092b39abf16d82654"
       ],
       "layout": "IPY_MODEL_8fcc4dd44a834141a781e04345d2f704"
      }
     },
     "b31d7486f49a43d092b39abf16d82654": {
      "model_module": "@jupyter-widgets/controls",
      "model_module_version": "2.0.0",
      "model_name": "DropdownModel",
      "state": {
       "_options_labels": [
        "1902",
        "1903",
        "1908",
        "1915",
        "1916",
        "1917",
        "1919",
        "1920",
        "1921",
        "1922",
        "1923",
        "1924",
        "1925",
        "1926",
        "1927",
        "1928",
        "1929",
        "1930",
        "1931",
        "1932",
        "1933",
        "1934",
        "1935",
        "1936",
        "1937",
        "1938",
        "1939",
        "1940",
        "1941",
        "1942",
        "1943",
        "1944",
        "1945",
        "1946",
        "1947",
        "1948",
        "1949",
        "1950",
        "1951",
        "1952",
        "1953",
        "1954",
        "1955",
        "1956",
        "1957",
        "1958",
        "1959",
        "1960",
        "1961",
        "1962",
        "1963",
        "1964",
        "1965",
        "1966",
        "1967",
        "1968",
        "1969",
        "1970",
        "1971",
        "1972",
        "1973",
        "1974",
        "1975",
        "1976",
        "1977",
        "1978",
        "1979",
        "1980",
        "1981",
        "1982",
        "1983",
        "1984",
        "1985",
        "1986",
        "1987",
        "1988",
        "1989",
        "1990",
        "1991",
        "1992",
        "1993",
        "1994",
        "1995",
        "1996",
        "1997",
        "1998",
        "1999",
        "2000",
        "2001",
        "2002",
        "2003",
        "2004",
        "2005",
        "2006",
        "2007",
        "2008",
        "2009",
        "2010",
        "2011",
        "2012",
        "2013",
        "2014",
        "2015",
        "2016",
        "2017",
        "2018",
        "None"
       ],
       "description": "Año",
       "index": 0,
       "layout": "IPY_MODEL_7b1b9f75908f42f2b9ec77148fa83c05",
       "style": "IPY_MODEL_540a0678a06341719ef5f2759075163f"
      }
     },
     "bac45817aaee46f5b53b55840f2d58fb": {
      "model_module": "@jupyter-widgets/controls",
      "model_module_version": "2.0.0",
      "model_name": "BoundedIntTextModel",
      "state": {
       "description": "Numero de recomendaciones",
       "layout": "IPY_MODEL_6dcc6d0febe442c19eaaa3672fdc51c0",
       "max": 60,
       "min": 10,
       "style": "IPY_MODEL_35ca7ff2d9af44e2a9670ffaab397e4c",
       "value": 20
      }
     },
     "e249df8f876643b1ad0f056e00e677b6": {
      "model_module": "@jupyter-widgets/output",
      "model_module_version": "1.0.0",
      "model_name": "OutputModel",
      "state": {
       "layout": "IPY_MODEL_336273805c2844faa2a18df20bd9d7d9",
       "outputs": [
        {
         "data": {
          "text/html": "<div>\n<style scoped>\n    .dataframe tbody tr th:only-of-type {\n        vertical-align: middle;\n    }\n\n    .dataframe tbody tr th {\n        vertical-align: top;\n    }\n\n    .dataframe thead th {\n        text-align: right;\n    }\n</style>\n<table border=\"1\" class=\"dataframe\">\n  <thead>\n    <tr style=\"text-align: right;\">\n      <th></th>\n      <th>movieId</th>\n      <th>title</th>\n      <th>avg_ratings</th>\n      <th>total_ratings</th>\n    </tr>\n  </thead>\n  <tbody>\n    <tr>\n      <th>0</th>\n      <td>356</td>\n      <td>Forrest Gump (1994)</td>\n      <td>4.170</td>\n      <td>317</td>\n    </tr>\n    <tr>\n      <th>1</th>\n      <td>318</td>\n      <td>Shawshank Redemption, The (1994)</td>\n      <td>4.444</td>\n      <td>306</td>\n    </tr>\n    <tr>\n      <th>2</th>\n      <td>296</td>\n      <td>Pulp Fiction (1994)</td>\n      <td>4.181</td>\n      <td>295</td>\n    </tr>\n    <tr>\n      <th>3</th>\n      <td>593</td>\n      <td>Silence of the Lambs, The (1991)</td>\n      <td>4.157</td>\n      <td>267</td>\n    </tr>\n    <tr>\n      <th>4</th>\n      <td>2571</td>\n      <td>Matrix, The (1999)</td>\n      <td>4.188</td>\n      <td>266</td>\n    </tr>\n    <tr>\n      <th>5</th>\n      <td>260</td>\n      <td>Star Wars: Episode IV - A New Hope (1977)</td>\n      <td>4.209</td>\n      <td>239</td>\n    </tr>\n    <tr>\n      <th>6</th>\n      <td>480</td>\n      <td>Jurassic Park (1993)</td>\n      <td>3.754</td>\n      <td>226</td>\n    </tr>\n    <tr>\n      <th>7</th>\n      <td>110</td>\n      <td>Braveheart (1995)</td>\n      <td>4.033</td>\n      <td>226</td>\n    </tr>\n    <tr>\n      <th>8</th>\n      <td>589</td>\n      <td>Terminator 2: Judgment Day (1991)</td>\n      <td>3.962</td>\n      <td>212</td>\n    </tr>\n    <tr>\n      <th>9</th>\n      <td>527</td>\n      <td>Schindler's List (1993)</td>\n      <td>4.219</td>\n      <td>212</td>\n    </tr>\n    <tr>\n      <th>10</th>\n      <td>2959</td>\n      <td>Fight Club (1999)</td>\n      <td>4.267</td>\n      <td>206</td>\n    </tr>\n    <tr>\n      <th>11</th>\n      <td>1</td>\n      <td>Toy Story (1995)</td>\n      <td>3.919</td>\n      <td>204</td>\n    </tr>\n    <tr>\n      <th>12</th>\n      <td>1196</td>\n      <td>Star Wars: Episode V - The Empire Strikes Back...</td>\n      <td>4.178</td>\n      <td>199</td>\n    </tr>\n    <tr>\n      <th>13</th>\n      <td>2858</td>\n      <td>American Beauty (1999)</td>\n      <td>4.036</td>\n      <td>194</td>\n    </tr>\n    <tr>\n      <th>14</th>\n      <td>150</td>\n      <td>Apollo 13 (1995)</td>\n      <td>3.869</td>\n      <td>194</td>\n    </tr>\n    <tr>\n      <th>15</th>\n      <td>50</td>\n      <td>Usual Suspects, The (1995)</td>\n      <td>4.249</td>\n      <td>193</td>\n    </tr>\n    <tr>\n      <th>16</th>\n      <td>47</td>\n      <td>Seven (a.k.a. Se7en) (1995)</td>\n      <td>3.963</td>\n      <td>191</td>\n    </tr>\n    <tr>\n      <th>17</th>\n      <td>780</td>\n      <td>Independence Day (a.k.a. ID4) (1996)</td>\n      <td>3.458</td>\n      <td>190</td>\n    </tr>\n    <tr>\n      <th>18</th>\n      <td>1198</td>\n      <td>Raiders of the Lost Ark (Indiana Jones and the...</td>\n      <td>4.189</td>\n      <td>188</td>\n    </tr>\n    <tr>\n      <th>19</th>\n      <td>4993</td>\n      <td>Lord of the Rings: The Fellowship of the Ring,...</td>\n      <td>4.086</td>\n      <td>186</td>\n    </tr>\n  </tbody>\n</table>\n</div>",
          "text/plain": "    movieId                                              title  avg_ratings  total_ratings\n0       356                                Forrest Gump (1994)        4.170            317\n1       318                   Shawshank Redemption, The (1994)        4.444            306\n2       296                                Pulp Fiction (1994)        4.181            295\n3       593                   Silence of the Lambs, The (1991)        4.157            267\n4      2571                                 Matrix, The (1999)        4.188            266\n5       260          Star Wars: Episode IV - A New Hope (1977)        4.209            239\n6       480                               Jurassic Park (1993)        3.754            226\n7       110                                  Braveheart (1995)        4.033            226\n8       589                  Terminator 2: Judgment Day (1991)        3.962            212\n9       527                            Schindler's List (1993)        4.219            212\n10     2959                                  Fight Club (1999)        4.267            206\n11        1                                   Toy Story (1995)        3.919            204\n12     1196  Star Wars: Episode V - The Empire Strikes Back...        4.178            199\n13     2858                             American Beauty (1999)        4.036            194\n14      150                                   Apollo 13 (1995)        3.869            194\n15       50                         Usual Suspects, The (1995)        4.249            193\n16       47                        Seven (a.k.a. Se7en) (1995)        3.963            191\n17      780               Independence Day (a.k.a. ID4) (1996)        3.458            190\n18     1198  Raiders of the Lost Ark (Indiana Jones and the...        4.189            188\n19     4993  Lord of the Rings: The Fellowship of the Ring,...        4.086            186"
         },
         "metadata": {},
         "output_type": "display_data"
        }
       ]
      }
     },
     "f9cc0993705149ff89f8b61ac533ff0e": {
      "model_module": "@jupyter-widgets/base",
      "model_module_version": "2.0.0",
      "model_name": "LayoutModel",
      "state": {}
     }
    },
    "version_major": 2,
    "version_minor": 0
   }
  }
 },
 "nbformat": 4,
 "nbformat_minor": 5
}
